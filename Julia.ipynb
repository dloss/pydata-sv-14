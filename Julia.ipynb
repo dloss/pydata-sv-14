{
 "metadata": {
  "language": "Julia",
  "name": "",
  "signature": "sha256:9949bafd6fb1df83341892c17a2d851344739d0cd9cb8c63b36e441ce8f731a6"
 },
 "nbformat": 3,
 "nbformat_minor": 0,
 "worksheets": [
  {
   "cells": [
    {
     "cell_type": "markdown",
     "metadata": {},
     "source": [
      "The Fibonacci sequence:\n",
      "\n",
      "$$\n",
      "F_n = F_{n-1} + F_{n-2}\n",
      "$$"
     ]
    },
    {
     "cell_type": "code",
     "collapsed": false,
     "input": [
      "fib(n) = n < 2 ? n : fib(n - 1) + fib(n - 2)\n",
      "\n",
      "for n = 1:16\n",
      "    print(fib(n), ' ')\n",
      "end\n"
     ],
     "language": "python",
     "metadata": {},
     "outputs": []
    },
    {
     "cell_type": "code",
     "collapsed": false,
     "input": [
      "x = linspace(0, 2*pi, 1000)\n",
      "y = sin(3*x + 4*cos(2*x))"
     ],
     "language": "python",
     "metadata": {},
     "outputs": []
    },
    {
     "cell_type": "markdown",
     "metadata": {},
     "source": [
      "Plotting with matplotlib from Julia"
     ]
    },
    {
     "cell_type": "code",
     "collapsed": false,
     "input": [
      "using PyPlot\n",
      "\n",
      "plot(x, y, color=\"red\", linewidth=2, linestyle=\"--\")\n",
      "ylabel(\"the y axis\")\n",
      "xlabel(\"the x axis\")\n",
      "title(\"a sinusoidally-modulated sinusoid\")"
     ],
     "language": "python",
     "metadata": {},
     "outputs": []
    }
   ],
   "metadata": {}
  }
 ]
}