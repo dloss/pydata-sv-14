{
 "metadata": {
  "name": "",
  "signature": "sha256:fabfc92bc94660cc43d6bcbaf0ad7cbf9012299d106b1d563e7bcf4ef39b2277"
 },
 "nbformat": 3,
 "nbformat_minor": 0,
 "worksheets": [
  {
   "cells": [
    {
     "cell_type": "heading",
     "level": 1,
     "metadata": {},
     "source": [
      "What's New in IPython"
     ]
    },
    {
     "cell_type": "heading",
     "level": 2,
     "metadata": {},
     "source": [
      "Directory navigation"
     ]
    },
    {
     "cell_type": "markdown",
     "metadata": {},
     "source": [
      "in [the dashboard](/)"
     ]
    },
    {
     "cell_type": "heading",
     "level": 2,
     "metadata": {},
     "source": [
      "Interactive Widgets"
     ]
    },
    {
     "cell_type": "code",
     "collapsed": false,
     "input": [
      "%matplotlib inline\n",
      "\n",
      "import matplotlib.pyplot as plt\n",
      "import numpy as np\n",
      "\n",
      "from IPython.html.widgets import interact\n",
      "from IPython.display import display, Audio, clear_output\n",
      "\n",
      "from sympy import Symbol, Eq, factor, init_printing\n",
      "init_printing(use_latex='mathjax')"
     ],
     "language": "python",
     "metadata": {},
     "outputs": [],
     "prompt_number": 3
    },
    {
     "cell_type": "code",
     "collapsed": false,
     "input": [
      "x = Symbol('x')\n",
      "def factorit(n):\n",
      "    display(Eq(x**n-1, factor(x**n-1)))\n",
      "\n",
      "factorit(12)"
     ],
     "language": "python",
     "metadata": {},
     "outputs": []
    },
    {
     "cell_type": "markdown",
     "metadata": {},
     "source": [
      "Interacting with a function gives you widgets."
     ]
    },
    {
     "cell_type": "code",
     "collapsed": false,
     "input": [
      "interact(factorit, n=(2,40));"
     ],
     "language": "python",
     "metadata": {},
     "outputs": []
    },
    {
     "cell_type": "markdown",
     "metadata": {},
     "source": [
      "You can also decorate functions to make them interactive"
     ]
    },
    {
     "cell_type": "code",
     "collapsed": false,
     "input": [
      "@interact(f1=(200.0,300.0), f2=(200.0,300.0))\n",
      "def beat_freq(f1=220.0, f2=224.0, plot=False):\n",
      "    max_time = 3\n",
      "    rate = 8000\n",
      "    times = np.linspace(0,max_time,rate*max_time)\n",
      "    signal = np.sin(2*np.pi*f1*times) + np.sin(2*np.pi*f2*times)\n",
      "    print(f1, f2, abs(f1-f2))\n",
      "    display(Audio(data=signal, rate=rate))\n",
      "    if plot:\n",
      "        plt.plot(signal[0:6000])\n",
      "    return signal"
     ],
     "language": "python",
     "metadata": {},
     "outputs": []
    },
    {
     "cell_type": "code",
     "collapsed": false,
     "input": [],
     "language": "python",
     "metadata": {},
     "outputs": []
    },
    {
     "cell_type": "code",
     "collapsed": false,
     "input": [
      "from IPython.utils.traitlets import link\n",
      "from IPython.html.widgets import (\n",
      "    ButtonWidget,\n",
      "    CheckboxWidget,\n",
      "    ContainerWidget,\n",
      "    DropdownWidget,\n",
      "    FloatSliderWidget,\n",
      "    FloatTextWidget,\n",
      "    IntSliderWidget,\n",
      "    IntTextWidget,\n",
      "    RadioButtonsWidget,\n",
      "    SelectWidget,\n",
      "    TextWidget,\n",
      "    TextareaWidget,\n",
      "    ToggleButtonWidget,\n",
      "    ToggleButtonsWidget,\n",
      ")"
     ],
     "language": "python",
     "metadata": {},
     "outputs": [],
     "prompt_number": 1
    },
    {
     "cell_type": "code",
     "collapsed": false,
     "input": [
      "widgets = [\n",
      "    TextWidget(),\n",
      "    ButtonWidget(),\n",
      "    FloatSliderWidget(min=0, max=5, step=0.1),\n",
      "    IntSliderWidget(min=0, max=20),\n",
      "    SelectWidget(values=['a', 'b', 'c']),\n",
      "    RadioButtonsWidget(values=[1,2,3]),\n",
      "    TextWidget(),\n",
      "    ToggleButtonsWidget(values=[u'\u2602', u'\u2601', u'\u2600', u'\u2603']),\n",
      "    TextWidget(),\n",
      "]\n",
      "\n",
      "# echo values in a text widget at the beginning and\n",
      "# end of the list\n",
      "text_widget = widgets[0]\n",
      "link((text_widget, 'value'), (widgets[-1], 'value'))\n",
      "\n",
      "for w in widgets[1:-1]:\n",
      "    w.description = w.__class__.__name__\n",
      "    def make_callback(w):\n",
      "        def callback(*args):\n",
      "            text_widget.value = \"%s: %s\" % (w.description, w.value)\n",
      "        return callback\n",
      "\n",
      "    w.on_trait_change(make_callback(w), 'value')\n",
      "\n",
      "for w in widgets:\n",
      "    display(w)"
     ],
     "language": "python",
     "metadata": {},
     "outputs": [],
     "prompt_number": 5
    },
    {
     "cell_type": "heading",
     "level": 2,
     "metadata": {},
     "source": [
      "Modal and customizable UI"
     ]
    },
    {
     "cell_type": "markdown",
     "metadata": {},
     "source": [
      "There's a tour!"
     ]
    },
    {
     "cell_type": "code",
     "collapsed": false,
     "input": [
      "%%javascript\n",
      "$('div#maintoolbar').show();"
     ],
     "language": "python",
     "metadata": {},
     "outputs": [
      {
       "javascript": [
        "$('div#maintoolbar').show();"
       ],
       "metadata": {},
       "output_type": "display_data",
       "text": [
        "<IPython.core.display.Javascript object>"
       ]
      }
     ],
     "prompt_number": 25
    },
    {
     "cell_type": "code",
     "collapsed": false,
     "input": [
      "%%javascript\n",
      "$(document).on(\"keydown\", function (evt) {\n",
      "    var w = IPython.notification_area.get_widget(\"notebook\");\n",
      "    w.set_message(IPython.keyboard.event_to_shortcut(evt), 2000);\n",
      "    return true;\n",
      "});\n",
      "               \n",
      "IPython.keyboard_manager.command_shortcuts.add_shortcut('ctrl-r', {\n",
      "    help : 'run all cells',\n",
      "    handler : function (event) {\n",
      "        IPython.notebook.execute_all_cells();\n",
      "        return false;\n",
      "    }}\n",
      ");\n",
      "IPython.keyboard_manager.command_shortcuts.remove_shortcut('i');\n",
      "IPython.keyboard_manager.command_shortcuts.add_shortcut('i', {\n",
      "    help : 'insert...I mean, edit mode',\n",
      "    handler : function (event) {\n",
      "        IPython.notebook.edit_mode();\n",
      "        return false;\n",
      "    }}\n",
      ");\n",
      "IPython.keyboard_manager.edit_shortcuts.add_shortcut('ctrl-[', {\n",
      "    help : 'command mode',\n",
      "    handler : function (event) {\n",
      "        IPython.notebook.command_mode();\n",
      "        return false;\n",
      "    }}\n",
      "\n",
      ");"
     ],
     "language": "python",
     "metadata": {},
     "outputs": [
      {
       "javascript": [
        "$(document).on(\"keydown\", function (evt) {\n",
        "    var w = IPython.notification_area.get_widget(\"notebook\");\n",
        "    w.set_message(IPython.keyboard.event_to_shortcut(evt), 2000);\n",
        "    return true;\n",
        "});\n",
        "               \n",
        "IPython.keyboard_manager.command_shortcuts.add_shortcut('ctrl-r', {\n",
        "    help : 'run all cells',\n",
        "    handler : function (event) {\n",
        "        IPython.notebook.execute_all_cells();\n",
        "        return false;\n",
        "    }}\n",
        ");\n",
        "IPython.keyboard_manager.command_shortcuts.remove_shortcut('i');\n",
        "IPython.keyboard_manager.command_shortcuts.add_shortcut('i', {\n",
        "    help : 'insert...I mean, edit mode',\n",
        "    handler : function (event) {\n",
        "        IPython.notebook.edit_mode();\n",
        "        return false;\n",
        "    }}\n",
        ");\n",
        "IPython.keyboard_manager.edit_shortcuts.add_shortcut('ctrl-[', {\n",
        "    help : 'command mode',\n",
        "    handler : function (event) {\n",
        "        IPython.notebook.command_mode();\n",
        "        return false;\n",
        "    }}\n",
        "\n",
        ");"
       ],
       "metadata": {},
       "output_type": "display_data",
       "text": [
        "<IPython.core.display.Javascript object>"
       ]
      }
     ],
     "prompt_number": 3
    },
    {
     "cell_type": "heading",
     "level": 2,
     "metadata": {},
     "source": [
      "Notebook Extensions"
     ]
    },
    {
     "cell_type": "markdown",
     "metadata": {},
     "source": [
      "Getting javascript on the page is one of the challenges for the multi-language nature of notebooks.\n",
      "Like the Python extensions "
     ]
    },
    {
     "cell_type": "code",
     "collapsed": false,
     "input": [
      "!ls"
     ],
     "language": "python",
     "metadata": {},
     "outputs": [
      {
       "output_type": "stream",
       "stream": "stdout",
       "text": [
        "Index.ipynb         What's Coming.ipynb What's Up.ipynb     gh_api.pyc          gh_tools.py         multiuser.graffle   outline.md\r\n",
        "Julia.ipynb         What's New.ipynb    gh_api.py           gh_api.sqlite       gist_demo.js        multiuser.svg\r\n"
       ]
      }
     ],
     "prompt_number": 6
    },
    {
     "cell_type": "code",
     "collapsed": false,
     "input": [
      "!head -n 16 gist_demo.js | pygmentize -l javascript"
     ],
     "language": "python",
     "metadata": {},
     "outputs": [
      {
       "output_type": "stream",
       "stream": "stdout",
       "text": [
        "\u001b[37m/*\u001b[39;49;00m\r\n",
        "\u001b[37mAdd this file to $(ipython locate)/nbextensions/gist.js\u001b[39;49;00m\r\n",
        "\u001b[37mAnd load it with:\u001b[39;49;00m\r\n",
        "\r\n",
        "\u001b[37mrequire([\"nbextensions/gist\"], function (gist_extension) {\u001b[39;49;00m\r\n",
        "\u001b[37m    console.log('gist extension loaded');\u001b[39;49;00m\r\n",
        "\u001b[37m    gist_extension.load_ipython_extension();\u001b[39;49;00m\r\n",
        "\u001b[37m});\u001b[39;49;00m\r\n",
        "\r\n",
        "\u001b[37m*/\u001b[39;49;00m\r\n",
        "define\u001b[39;49;00m(\u001b[39;49;00m \u001b[39;49;00m\u001b[34mfunction\u001b[39;49;00m \u001b[39;49;00m(\u001b[39;49;00m)\u001b[39;49;00m \u001b[39;49;00m{\u001b[39;49;00m\r\n",
        "    \u001b[39;49;00m\r\n",
        "    \u001b[39;49;00m\u001b[34mvar\u001b[39;49;00m \u001b[39;49;00mtoken_name\u001b[39;49;00m \u001b[39;49;00m=\u001b[39;49;00m \u001b[39;49;00m\u001b[33m\"gist_github_token\"\u001b[39;49;00m;\u001b[39;49;00m\r\n",
        "    \u001b[39;49;00m\r\n",
        "    \u001b[39;49;00m\u001b[37m// dialog to request GitHub OAuth token\u001b[39;49;00m\r\n",
        "    \u001b[39;49;00m\u001b[37m// I'm not sure it's possible to step through OAuth purely client side,\u001b[39;49;00m\r\n"
       ]
      }
     ],
     "prompt_number": 17
    },
    {
     "cell_type": "code",
     "collapsed": false,
     "input": [
      "!ipython install-nbextension gist_demo.js"
     ],
     "language": "python",
     "metadata": {},
     "outputs": [
      {
       "output_type": "stream",
       "stream": "stdout",
       "text": [
        "copying gist_demo.js -> /Users/minrk/.ipython/nbextensions/gist_demo.js\r\n"
       ]
      }
     ],
     "prompt_number": 18
    },
    {
     "cell_type": "code",
     "collapsed": false,
     "input": [
      "%%javascript\n",
      "IPython.load_extensions(\"gist_demo\")"
     ],
     "language": "python",
     "metadata": {},
     "outputs": [
      {
       "javascript": [
        "IPython.load_extensions(\"gist_demo\")"
       ],
       "metadata": {},
       "output_type": "display_data",
       "text": [
        "<IPython.core.display.Javascript object>"
       ]
      }
     ],
     "prompt_number": 21
    },
    {
     "cell_type": "code",
     "collapsed": false,
     "input": [
      "rm -f ~/.ipython/nbextensions/gist_demo.js"
     ],
     "language": "python",
     "metadata": {},
     "outputs": [],
     "prompt_number": 24
    },
    {
     "cell_type": "markdown",
     "metadata": {},
     "source": [
      "The model:\n",
      "\n",
      "- Installing extensions makes them *available*\n",
      "- loading extensions is done via `require.js` in the notebook or profile"
     ]
    },
    {
     "cell_type": "heading",
     "level": 2,
     "metadata": {},
     "source": [
      "Notebook security"
     ]
    },
    {
     "cell_type": "markdown",
     "metadata": {},
     "source": [
      "### The problem\n",
      "\n",
      "The whole point of IPython is arbitrary code execution.\n",
      "We have no desire to limit what can be done with a notebook, which would negatively impact its utility.\n",
      "\n",
      "Unlike other programs, an IPython notebook document includes output.\n",
      "Unlike other documents, that output exists in a context that can execute code (via Javascript).\n",
      "\n",
      "The security problem we need to solve is that no code should execute just because a user has **opened** a notebook that **they did not write**.\n",
      "Like any other program, once a user decides to execute code in a notebook,\n",
      "it is considered trusted, and should be allowed to do anything.\n",
      "\n",
      "### Our security model\n",
      "\n",
      "- Untrusted HTML is always sanitized\n",
      "- Untrusted Javascript is never executed\n",
      "- HTML and Javascript in Markdown cells are never trusted\n",
      "- **Outputs** generated by the user are trusted\n",
      "- Any other HTML or Javascript (in Markdown cells, output generated by others) is never trusted\n",
      "- The central question of trust is \u201cDid the current user do this?\u201d"
     ]
    },
    {
     "cell_type": "markdown",
     "metadata": {},
     "source": [
      "So, what's [coming next](What's coming.ipynb)?"
     ]
    }
   ],
   "metadata": {}
  }
 ]
}